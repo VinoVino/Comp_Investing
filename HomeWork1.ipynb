{
 "cells": [
  {
   "cell_type": "code",
   "execution_count": 64,
   "metadata": {
    "collapsed": false
   },
   "outputs": [],
   "source": [
    "import QSTK.qstkutil.qsdateutil as du\n",
    "import QSTK.qstkutil.tsutil as tsu\n",
    "import QSTK.qstkutil.DataAccess as da\n",
    "\n",
    "import datetime as dt\n",
    "import matplotlib.pyplot as plt\n",
    "import pandas as pd\n",
    "import numpy as np\n",
    "\n",
    "import itertools\n"
   ]
  },
  {
   "cell_type": "code",
   "execution_count": null,
   "metadata": {
    "collapsed": true
   },
   "outputs": [],
   "source": []
  },
  {
   "cell_type": "code",
   "execution_count": 65,
   "metadata": {
    "collapsed": false
   },
   "outputs": [],
   "source": [
    "def allocations():\n",
    "    # function generate all possible allocations of list from 0-.1, .2, .3, .4, .5...1.0) for each element in the list\n",
    "    Listnumbers=[0,0.1,0.2,0.3,0.4,0.5,0.6,0.7,0.8,0.9,1.0]\n",
    "#     combinations=itertools.combinations(Listnumbers,4)\n",
    "#     combinationsList=list(combinations)\n",
    "    combinations=[]\n",
    "    final_combinations=[]\n",
    "    \n",
    "    for element in Listnumbers:\n",
    "        number1=element\n",
    "        for element2 in Listnumbers:\n",
    "            number2=element2\n",
    "            for element3 in Listnumbers:\n",
    "                number3=element3\n",
    "                for element4 in Listnumbers:\n",
    "                    number4=element4\n",
    "                    tempList=[]\n",
    "                    tempList.append(number1)\n",
    "                    tempList.append(number2)\n",
    "                    tempList.append(number3)\n",
    "                    tempList.append(number4)\n",
    "                    combinations.append(tempList)\n",
    "    for numberlist in combinations:\n",
    "        if np.sum(numberlist)==1:\n",
    "            final_combinations.append(numberlist)\n",
    "            \n",
    "    return final_combinations"
   ]
  },
  {
   "cell_type": "code",
   "execution_count": 66,
   "metadata": {
    "collapsed": true
   },
   "outputs": [],
   "source": [
    "def simulate_metrics(start_date, end_date,stock_list,allocations):\n",
    "    dt_timeofday = dt.timedelta(hours=16)\n",
    "    ldt_timestamps = du.getNYSEdays(start_date, end_date, dt_timeofday)\n",
    "    ls_keys = ['open', 'high', 'low', 'close', 'volume', 'actual_close']\n",
    "    c_dataobj = da.DataAccess('Yahoo')\n",
    "    ldf_data = c_dataobj.get_data(ldt_timestamps, stock_list, ls_keys)  # get data for stocks in time range for keys\n",
    "    d_data = dict(zip(ls_keys, ldf_data))\n",
    "       \n",
    "    # Calculate the portfolio value\n",
    "    temp = d_data['close'].values.copy()\n",
    "    InitialPrice=temp[0]\n",
    "    EndPrice=temp[-1]\n",
    "    d_normal = temp / temp[0,:]   #normalize\n",
    "\n",
    "    #normalizee daily returns\n",
    "    tsu.returnize0(d_normal)\n",
    "    na_portrets = np.sum(d_normal * allocation, axis=1)  #sum rows daily returns\n",
    "    #In a similar manner we can compute the returns of the individual components as follows:\n",
    "    na_component_total = np.cumprod(d_normal + 1, axis=0)\n",
    "    cumu_ret = sum(na_component_total[len(na_component_total)-1]*allocations)\n",
    "    \n",
    "    #calculate shapre ratio\n",
    "    STDEV = np.std(na_portrets)\n",
    "    daily_return = np.mean(na_portrets)\n",
    "    sharpe = np.sqrt(252)*daily_return/STDEV\n",
    "   \n",
    "    \n",
    "    print 'Start Date ', start_date\n",
    "    print 'End Date ', end_date\n",
    "    print 'Symbols ', stock_list\n",
    "    print 'Optimal Allocations ', allocations\n",
    "    print 'Sharpe Ratio ', sharpe\n",
    "    print 'Volatility/STDEV ', STDEV\n",
    "    print 'Average Daily Return ', daily_return\n",
    "    print 'Cumulative Return ', \n",
    "    ################Data Check\n",
    "# Start Date: January 1, 2011\n",
    "# End Date: December 31, 2011\n",
    "# Symbols: ['AAPL', 'GLD', 'GOOG', 'XOM']\n",
    "# Optimal Allocations: [0.4, 0.4, 0.0, 0.2]\n",
    "# Sharpe Ratio: 1.02828403099\n",
    "# Volatility (stdev of daily returns):  0.0101467067654\n",
    "# Average Daily Return:  0.000657261102001\n",
    "# Cumulative Return:  1.16487261965\n",
    "    \n",
    "    \n",
    "    "
   ]
  },
  {
   "cell_type": "code",
   "execution_count": 67,
   "metadata": {
    "collapsed": false
   },
   "outputs": [],
   "source": [
    "# The function should return:\n",
    "# Standard deviation of daily returns of the total portfolio\n",
    "# Average daily return of the total portfolio\n",
    "# Sharpe ratio (Always assume you have 252 trading days in an year. And risk free rate = 0) of the total portfolio\n",
    "# Cumulative return of the total portfolio\n",
    "\n",
    "\n",
    "\n",
    "def simulate(start_date, end_date,stock_list,allocations):\n",
    "    dt_timeofday = dt.timedelta(hours=16)\n",
    "    ldt_timestamps = du.getNYSEdays(start_date, end_date, dt_timeofday)\n",
    "    ls_keys = ['open', 'high', 'low', 'close', 'volume', 'actual_close']\n",
    "    c_dataobj = da.DataAccess('Yahoo')\n",
    "    ldf_data = c_dataobj.get_data(ldt_timestamps, stock_list, ls_keys)  # get data for stocks in time range for keys\n",
    "    d_data = dict(zip(ls_keys, ldf_data))\n",
    "       \n",
    "    # Calculate the portfolio value\n",
    "    temp = d_data['close'].values.copy()\n",
    "    InitialPrice=temp[0]\n",
    "    EndPrice=temp[-1]\n",
    "    d_normal = temp / temp[0,:]   #normalize\n",
    "\n",
    "    #normalizee daily returns\n",
    "    tsu.returnize0(d_normal)\n",
    "    \n",
    "    maxSharp=-1\n",
    "    for allocation in allocations:\n",
    "        #We can quickly compute the daily returns and the cumulative returns as follows:\n",
    "        na_portrets = np.sum(d_normal * allocation, axis=1)  #sum rows daily returns\n",
    "        #In a similar manner we can compute the returns of the individual components as follows:\n",
    "    \n",
    "        #calculate shapre ratio\n",
    "        temp_STDEV = np.std(na_portrets)\n",
    "        temp_daily_return = np.mean(na_portrets)\n",
    "        temp_sharpe = np.sqrt(252)*temp_daily_return/temp_STDEV\n",
    "        \n",
    "        #save best sharpe ratio and allocation\n",
    "        if temp_sharpe > maxSharp:\n",
    "            maxSharp=temp_sharpe\n",
    "            final_allocation=allocation\n",
    "    \n",
    "   \n",
    "    \n",
    "    simulate_metrics(start_date, end_date,stock_list,final_allocation)\n",
    "\n",
    "   "
   ]
  },
  {
   "cell_type": "code",
   "execution_count": 68,
   "metadata": {
    "collapsed": false
   },
   "outputs": [
    {
     "ename": "NameError",
     "evalue": "global name 'allocation' is not defined",
     "output_type": "error",
     "traceback": [
      "\u001b[0;31m---------------------------------------------------------------------------\u001b[0m",
      "\u001b[0;31mNameError\u001b[0m                                 Traceback (most recent call last)",
      "\u001b[0;32m<ipython-input-68-904ecc556766>\u001b[0m in \u001b[0;36m<module>\u001b[0;34m()\u001b[0m\n\u001b[1;32m     13\u001b[0m \u001b[0msymbols\u001b[0m\u001b[0;34m=\u001b[0m\u001b[0;34m[\u001b[0m\u001b[0;34m'AAPL'\u001b[0m\u001b[0;34m,\u001b[0m \u001b[0;34m'GOOG'\u001b[0m\u001b[0;34m,\u001b[0m \u001b[0;34m'IBM'\u001b[0m\u001b[0;34m,\u001b[0m \u001b[0;34m'MSFT'\u001b[0m\u001b[0;34m]\u001b[0m\u001b[0;34m\u001b[0m\u001b[0m\n\u001b[1;32m     14\u001b[0m \u001b[0;34m\u001b[0m\u001b[0m\n\u001b[0;32m---> 15\u001b[0;31m \u001b[0mallocations\u001b[0m\u001b[0;34m,\u001b[0m\u001b[0msharpe\u001b[0m\u001b[0;34m,\u001b[0m\u001b[0mSTDEV\u001b[0m\u001b[0;34m,\u001b[0m\u001b[0mdaily_ret\u001b[0m\u001b[0;34m,\u001b[0m\u001b[0mcum_ret\u001b[0m \u001b[0;34m=\u001b[0m \u001b[0msimulate\u001b[0m\u001b[0;34m(\u001b[0m\u001b[0mstart_date\u001b[0m\u001b[0;34m,\u001b[0m \u001b[0mend_date\u001b[0m\u001b[0;34m,\u001b[0m \u001b[0msymbols\u001b[0m\u001b[0;34m,\u001b[0m \u001b[0mfinal_combinations\u001b[0m\u001b[0;34m)\u001b[0m\u001b[0;34m\u001b[0m\u001b[0m\n\u001b[0m\u001b[1;32m     16\u001b[0m \u001b[0;34m\u001b[0m\u001b[0m\n\u001b[1;32m     17\u001b[0m \u001b[0;34m\u001b[0m\u001b[0m\n",
      "\u001b[0;32m<ipython-input-67-71fa24089613>\u001b[0m in \u001b[0;36msimulate\u001b[0;34m(start_date, end_date, stock_list, allocations)\u001b[0m\n\u001b[1;32m     42\u001b[0m \u001b[0;34m\u001b[0m\u001b[0m\n\u001b[1;32m     43\u001b[0m \u001b[0;34m\u001b[0m\u001b[0m\n\u001b[0;32m---> 44\u001b[0;31m     \u001b[0msimulate_metrics\u001b[0m\u001b[0;34m(\u001b[0m\u001b[0mstart_date\u001b[0m\u001b[0;34m,\u001b[0m \u001b[0mend_date\u001b[0m\u001b[0;34m,\u001b[0m\u001b[0mstock_list\u001b[0m\u001b[0;34m,\u001b[0m\u001b[0mfinal_allocation\u001b[0m\u001b[0;34m)\u001b[0m\u001b[0;34m\u001b[0m\u001b[0m\n\u001b[0m\u001b[1;32m     45\u001b[0m \u001b[0;34m\u001b[0m\u001b[0m\n\u001b[1;32m     46\u001b[0m \u001b[0;34m\u001b[0m\u001b[0m\n",
      "\u001b[0;32m<ipython-input-66-1affacf954c6>\u001b[0m in \u001b[0;36msimulate_metrics\u001b[0;34m(start_date, end_date, stock_list, allocations)\u001b[0m\n\u001b[1;32m     15\u001b[0m     \u001b[0;31m#normalizee daily returns\u001b[0m\u001b[0;34m\u001b[0m\u001b[0;34m\u001b[0m\u001b[0m\n\u001b[1;32m     16\u001b[0m     \u001b[0mtsu\u001b[0m\u001b[0;34m.\u001b[0m\u001b[0mreturnize0\u001b[0m\u001b[0;34m(\u001b[0m\u001b[0md_normal\u001b[0m\u001b[0;34m)\u001b[0m\u001b[0;34m\u001b[0m\u001b[0m\n\u001b[0;32m---> 17\u001b[0;31m     \u001b[0mna_portrets\u001b[0m \u001b[0;34m=\u001b[0m \u001b[0mnp\u001b[0m\u001b[0;34m.\u001b[0m\u001b[0msum\u001b[0m\u001b[0;34m(\u001b[0m\u001b[0md_normal\u001b[0m \u001b[0;34m*\u001b[0m \u001b[0mallocation\u001b[0m\u001b[0;34m,\u001b[0m \u001b[0maxis\u001b[0m\u001b[0;34m=\u001b[0m\u001b[0;36m1\u001b[0m\u001b[0;34m)\u001b[0m  \u001b[0;31m#sum rows daily returns\u001b[0m\u001b[0;34m\u001b[0m\u001b[0m\n\u001b[0m\u001b[1;32m     18\u001b[0m     \u001b[0;31m#In a similar manner we can compute the returns of the individual components as follows:\u001b[0m\u001b[0;34m\u001b[0m\u001b[0;34m\u001b[0m\u001b[0m\n\u001b[1;32m     19\u001b[0m     \u001b[0mna_component_total\u001b[0m \u001b[0;34m=\u001b[0m \u001b[0mnp\u001b[0m\u001b[0;34m.\u001b[0m\u001b[0mcumprod\u001b[0m\u001b[0;34m(\u001b[0m\u001b[0md_normal\u001b[0m \u001b[0;34m+\u001b[0m \u001b[0;36m1\u001b[0m\u001b[0;34m,\u001b[0m \u001b[0maxis\u001b[0m\u001b[0;34m=\u001b[0m\u001b[0;36m0\u001b[0m\u001b[0;34m)\u001b[0m\u001b[0;34m\u001b[0m\u001b[0m\n",
      "\u001b[0;31mNameError\u001b[0m: global name 'allocation' is not defined"
     ]
    }
   ],
   "source": [
    "# Equities = ['AAPL', 'GOOG', 'IBM', 'MSFT']\n",
    "\n",
    "# Start Date = 1st January, 2011\n",
    "\n",
    "# End Date = 31st December, 2011\n",
    "\n",
    "\n",
    "\n",
    "start_date=dt.datetime(2011, 1, 1)\n",
    "end_date=dt.datetime(2011, 12, 31)\n",
    "\n",
    "final_combinations=allocations()\n",
    "symbols=['AAPL', 'GOOG', 'IBM', 'MSFT']\n",
    "\n",
    "allocations,sharpe,STDEV,daily_ret,cum_ret = simulate(start_date, end_date, symbols, final_combinations)\n",
    "\n",
    "\n",
    "\n",
    "\n",
    "################Data Check\n",
    "# Start Date: January 1, 2011\n",
    "# End Date: December 31, 2011\n",
    "# Symbols: ['AAPL', 'GLD', 'GOOG', 'XOM']\n",
    "# Optimal Allocations: [0.4, 0.4, 0.0, 0.2]\n",
    "# Sharpe Ratio: 1.02828403099\n",
    "# Volatility (stdev of daily returns):  0.0101467067654\n",
    "# Average Daily Return:  0.000657261102001\n",
    "# Cumulative Return:  1.16487261965\n",
    "\n"
   ]
  },
  {
   "cell_type": "code",
   "execution_count": null,
   "metadata": {
    "collapsed": true
   },
   "outputs": [],
   "source": [
    "\n",
    "    "
   ]
  },
  {
   "cell_type": "code",
   "execution_count": null,
   "metadata": {
    "collapsed": true
   },
   "outputs": [],
   "source": []
  },
  {
   "cell_type": "code",
   "execution_count": null,
   "metadata": {
    "collapsed": true
   },
   "outputs": [],
   "source": []
  }
 ],
 "metadata": {
  "kernelspec": {
   "display_name": "Python 2",
   "language": "python",
   "name": "python2"
  },
  "language_info": {
   "codemirror_mode": {
    "name": "ipython",
    "version": 2
   },
   "file_extension": ".py",
   "mimetype": "text/x-python",
   "name": "python",
   "nbconvert_exporter": "python",
   "pygments_lexer": "ipython2",
   "version": "2.7.5"
  }
 },
 "nbformat": 4,
 "nbformat_minor": 0
}
